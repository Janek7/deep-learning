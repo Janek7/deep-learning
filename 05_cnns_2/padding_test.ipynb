{
 "cells": [
  {
   "cell_type": "code",
   "execution_count": 56,
   "outputs": [],
   "source": [
    "import numpy as np\n",
    "import tensorflow as tf\n",
    "# simple two dim\n",
    "def pad_2d(tensor):\n",
    "    row_concats = []\n",
    "    for row in tensor:\n",
    "        row_concat = None\n",
    "        for column in row:\n",
    "            # pad single elements\n",
    "            padded = tf.pad(tf.reshape(column, [-1, 1]), tf.constant([[0,1], [0,1]]))\n",
    "            # padded = tf.pad(column, tf.constant([[0,1], [0,1]]))\n",
    "            if row_concat is None:\n",
    "                row_concat = padded\n",
    "            else:\n",
    "                # concat single paddings \"horizontally\"\n",
    "                row_concat = tf.concat([row_concat, padded], 1)\n",
    "        row_concats.append(row_concat)\n",
    "    # concat padded rows \"vertically\"\n",
    "    return tf.concat(row_concats, 0)\n",
    "\n",
    "# print(pad_2d(np.array([[1, 2, 3], [4, 5, 6]])))"
   ],
   "metadata": {
    "collapsed": false,
    "pycharm": {
     "name": "#%%\n"
    }
   }
  },
  {
   "cell_type": "code",
   "execution_count": 57,
   "outputs": [
    {
     "name": "stdout",
     "output_type": "stream",
     "text": [
      "final shape (10, 28, 28, 5)\n"
     ]
    }
   ],
   "source": [
    "import tensorflow as tf\n",
    "\n",
    "# 4 dim with batches, channels\n",
    "def pad_batch_of_images(batch):\n",
    "    images_padded = []\n",
    "    for image in batch:\n",
    "        image = tf.image.convert_image_dtype(image, tf.float32)\n",
    "        channels_padded = []\n",
    "        for channel in range(image.shape[2]):\n",
    "            img_channel = image[:,:,channel]\n",
    "            # pad \"between\" pixels\n",
    "            channel_padded = pad_2d(img_channel)\n",
    "            # add surrounding padding (TODO: now added left and top as well, necessary?)\n",
    "            channel_padded = tf.pad(channel_padded, tf.constant([[1,1], [1,1]]))\n",
    "            channels_padded.append(channel_padded)\n",
    "        image_padded = tf.stack(channels_padded, 2)\n",
    "        images_padded.append(image_padded)\n",
    "        # print(\"image padded shape\", image_padded.shape)\n",
    "    batch_padded = tf.stack(images_padded)\n",
    "    return batch_padded\n",
    "\n",
    "c = tf.random.uniform([10, 13, 13, 5])\n",
    "\n",
    "c_padded = pad_batch_of_images(c)\n",
    "print(\"final shape\", c_padded.shape)\n"
   ],
   "metadata": {
    "collapsed": false,
    "pycharm": {
     "name": "#%%\n"
    }
   }
  }
 ],
 "metadata": {
  "kernelspec": {
   "display_name": "Python 3",
   "language": "python",
   "name": "python3"
  },
  "language_info": {
   "codemirror_mode": {
    "name": "ipython",
    "version": 2
   },
   "file_extension": ".py",
   "mimetype": "text/x-python",
   "name": "python",
   "nbconvert_exporter": "python",
   "pygments_lexer": "ipython2",
   "version": "2.7.6"
  }
 },
 "nbformat": 4,
 "nbformat_minor": 0
}